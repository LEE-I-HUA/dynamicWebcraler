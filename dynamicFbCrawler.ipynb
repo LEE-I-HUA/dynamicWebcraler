{
 "cells": [
  {
   "cell_type": "code",
   "execution_count": 26,
   "metadata": {},
   "outputs": [],
   "source": [
    "from selenium import webdriver\n",
    "from selenium.webdriver.chrome.service import Service\n",
    "from selenium.webdriver.chrome.options import Options\n",
    "import time\n",
    "from bs4 import BeautifulSoup"
   ]
  },
  {
   "cell_type": "code",
   "execution_count": 34,
   "metadata": {},
   "outputs": [],
   "source": [
    "# disable Chrome notifications when Chrome opened by Selenium \n",
    "options = Options()\n",
    "options.add_argument(\"--disable-notifications\") \n",
    "\n",
    "# download chrome driver from https://chromedriver.chromium.org/downloads first\n",
    "chrome = webdriver.Chrome()\n",
    "# use get to go to the website u want to crawl\n",
    "chrome.get(\"https://www.facebook.com/\")\n",
    "\n",
    "# find the spesific tags that u have to enter\n",
    "email = chrome.find_element(\"id\", \"email\")\n",
    "password = chrome.find_element(\"id\",\"pass\")\n",
    "\n",
    "# sent your keys to enter the website\n",
    "email.send_keys('myMail@gmail.com')\n",
    "password.send_keys('yourPassword')\n",
    "password.submit()\n",
    "\n",
    "# halt execution for 3 second to let load elements. u cannot get elements if they haven't loaded\n",
    "time.sleep(3)\n",
    "chrome.get('https://www.facebook.com/learncodewithmike')\n",
    "\n",
    "\n",
    "\n",
    "# the chat room may pop out that obstruct u crawl the website\n",
    "# use find_element_by_css_selector() in Selenium\n",
    "# and find Method \"class\" to located then call the function \"click\" to close the chat room\n",
    "\n",
    "for x in range(1, 10):\n",
    "    chrome.execute_script(\"window.scrollTo(0,document.body.scrollHeight)\")\n",
    "    time.sleep(5)\n"
   ]
  },
  {
   "cell_type": "code",
   "execution_count": 33,
   "metadata": {},
   "outputs": [
    {
     "name": "stdout",
     "output_type": "stream",
     "text": [
      "現在大數據的時代，\n",
      "【#Python網頁爬蟲新手開發實戰】課程，\n",
      "【#限時預購 】\n",
      "哈囉~大家週末愉快呀，好久不見，\n",
      "【常用的Pandas套件合併CSV檔案資料的驗證方式】\n",
      "【解析Pandas套件的Pivot Table(樞紐分析表)用法透視資料】\n",
      "【你要學會的Pandas套件對於資料單位與格式的處理技巧】\n",
      "【解密Pandas套件清理類別資料(Categorical Data)的方法】\n",
      "【3個實用的Pandas套件清理重複資料教學】\n",
      "【善用Pandas套件幫你清理資料範圍異常的資料】\n"
     ]
    }
   ],
   "source": [
    "soup = BeautifulSoup(chrome.page_source, 'html.parser')\n",
    "titles = soup.find_all('div', {\n",
    "    'class': 'xdj266r x11i5rnm xat24cr x1mh8g0r x1vvkbs x126k92a'})\n",
    "\n",
    "for title in titles:\n",
    " \n",
    "    post = title.find('div', {'dir': 'auto'})\n",
    " \n",
    "    if post:\n",
    "        print(post.getText())\n",
    " \n",
    "chrome.quit()"
   ]
  }
 ],
 "metadata": {
  "kernelspec": {
   "display_name": "Python 3",
   "language": "python",
   "name": "python3"
  },
  "language_info": {
   "codemirror_mode": {
    "name": "ipython",
    "version": 3
   },
   "file_extension": ".py",
   "mimetype": "text/x-python",
   "name": "python",
   "nbconvert_exporter": "python",
   "pygments_lexer": "ipython3",
   "version": "3.11.3"
  },
  "orig_nbformat": 4
 },
 "nbformat": 4,
 "nbformat_minor": 2
}
