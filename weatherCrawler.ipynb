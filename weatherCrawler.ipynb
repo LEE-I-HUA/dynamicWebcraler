{
 "cells": [
  {
   "cell_type": "code",
   "execution_count": 22,
   "metadata": {},
   "outputs": [],
   "source": [
    "from selenium import webdriver\n",
    "from selenium.webdriver.chrome.options import Options\n",
    "from selenium.webdriver.support.ui import Select\n",
    "import time\n",
    "import pandas as pd"
   ]
  },
  {
   "attachments": {},
   "cell_type": "markdown",
   "metadata": {},
   "source": [
    "平均氣壓(hPa) StnPres\n",
    "平均氣溫(℃) Tx\n",
    "最高氣溫(℃) TxMaxAbs\n",
    "最低氣溫(℃) TxMinAbs\n",
    "平均相對溼度( %) RH\n",
    "累計雨量(mm) Precp\n",
    "累積日照時數(hr) SunShine\n",
    "累積日射量(MJ/m2) GloblRad\n",
    "平均地溫5cm(℃) TxSoil5cm"
   ]
  },
  {
   "cell_type": "code",
   "execution_count": 50,
   "metadata": {},
   "outputs": [],
   "source": [
    "# disable Chrome notifications when Chrome opened by Selenium \n",
    "options = Options()\n",
    "options.add_argument(\"--disable-notifications\") \n",
    "\n",
    "# download chrome driver from https://chromedriver.chromium.org/downloads first\n",
    "chrome = webdriver.Chrome()\n",
    "# use get to go to the website u want to crawl\n",
    "chrome.get(\"https://agr.cwb.gov.tw/NAGR/history/station_day\")\n",
    "\n",
    "# reference url https://jzchangmark.wordpress.com/2015/03/05/%E9%80%8F%E9%81%8E-selenium-%E6%93%8D%E4%BD%9C%E4%B8%8B%E6%8B%89%E5%BC%8F%E9%81%B8%E5%96%AE-select/\n",
    "station_level = Select(chrome.find_element(\"id\",\"station_level\"))\n",
    "station_level.select_by_visible_text(u'農業站')\n",
    "\n",
    "\n",
    "area_name = Select(chrome.find_element(\"id\",\"area_name\"))\n",
    "area_name.select_by_value(\"中\")\n",
    "\n",
    "time.sleep(2)\n",
    "station_name = Select(chrome.find_element(\"name\",\"station_name\"))\n",
    "station_name.select_by_value(\"72M700\")\n",
    "\n",
    "time.sleep(3)\n",
    "item_multiple = Select(chrome.find_element(\"id\",\"item_multiple\"))\n",
    "item_multiple.select_by_value(\"TxMaxAbs\")\n",
    "\n",
    "\n",
    "start_time = chrome.find_element(\"id\", \"start_time\")\n",
    "end_time = chrome.find_element(\"id\", \"end_time\")\n",
    "\n",
    "\n",
    "start_time.clear()\n",
    "start_time.send_keys('2018-01-21')\n",
    "\n",
    "end_time.clear()\n",
    "end_time.send_keys('2023-01-21')\n",
    "\n",
    "chrome.find_element(\"xpath\",'//*[@id=\"radios-3\"]').click()\n",
    "\n",
    "time.sleep(3)\n",
    "chrome.find_element(\"xpath\",'//*[@id=\"create_report\"]').click()\n"
   ]
  },
  {
   "cell_type": "code",
   "execution_count": 43,
   "metadata": {},
   "outputs": [],
   "source": [
    "def simulate(area, station, item, start = '2017-12-21',end ='2022-12-21') -> str:\n",
    "    \n",
    "    station_level = Select(chrome.find_element(\"id\",\"station_level\"))\n",
    "    station_level.select_by_visible_text(u'農業站')\n",
    "\n",
    "\n",
    "    area_name = Select(chrome.find_element(\"id\",\"area_name\"))\n",
    "    area_name.select_by_value(area)\n",
    "\n",
    "    time.sleep(2)\n",
    "    station_name = Select(chrome.find_element(\"name\",\"station_name\"))\n",
    "    station_name.select_by_value(station)\n",
    "\n",
    "    time.sleep(3)\n",
    "    item_multiple = Select(chrome.find_element(\"id\",\"item_multiple\"))\n",
    "    item_multiple.select_by_value(item)\n",
    "\n",
    "\n",
    "    start_time = chrome.find_element(\"id\", \"start_time\")\n",
    "    end_time = chrome.find_element(\"id\", \"end_time\")\n",
    "\n",
    "\n",
    "    start_time.clear()\n",
    "    start_time.send_keys(start)\n",
    "\n",
    "    end_time.clear()\n",
    "    end_time.send_keys(end)\n",
    "\n",
    "    chrome.find_element(\"xpath\",'//*[@id=\"radios-3\"]').click()\n",
    "\n",
    "    time.sleep(3)\n",
    "    chrome.find_element(\"xpath\",'//*[@id=\"create_report\"]').click()"
   ]
  },
  {
   "cell_type": "code",
   "execution_count": 48,
   "metadata": {},
   "outputs": [],
   "source": [
    "df = pd.read_csv('data/Observatory.csv')\n",
    "item_list = [\"StnPres\", \"Tx\", \"TxMaxAbs\", \"TxMinAbs\", \"RH\", \"Precp\", \"SunShine\", \"GloblRad\", \"TxSoil5cm\"]\n",
    "\n",
    "area_list = df['Area']\n",
    "station_list = df['ID']\n",
    "\n"
   ]
  },
  {
   "cell_type": "code",
   "execution_count": 49,
   "metadata": {},
   "outputs": [],
   "source": [
    "# disable Chrome notifications when Chrome opened by Selenium \n",
    "options = Options()\n",
    "options.add_argument(\"--disable-notifications\") \n",
    "\n",
    "# download chrome driver from https://chromedriver.chromium.org/downloads first\n",
    "chrome = webdriver.Chrome()\n",
    "# use get to go to the website u want to crawl\n",
    "chrome.get(\"https://agr.cwb.gov.tw/NAGR/history/station_day\")\n",
    "\n",
    "for i in range(0,len(df)):\n",
    "    for j in range(0,len(item_list)):\n",
    "        area = area_list[i]\n",
    "        station = station_list[i]\n",
    "        item = item_list[j]\n",
    "        simulate(area, station, item, start = '2017-12-21',end ='2022-12-21')\n",
    "\n",
    "time.sleep(5)\n",
    "chrome.close()\n"
   ]
  },
  {
   "cell_type": "code",
   "execution_count": 28,
   "metadata": {},
   "outputs": [],
   "source": []
  }
 ],
 "metadata": {
  "kernelspec": {
   "display_name": "Python 3",
   "language": "python",
   "name": "python3"
  },
  "language_info": {
   "codemirror_mode": {
    "name": "ipython",
    "version": 3
   },
   "file_extension": ".py",
   "mimetype": "text/x-python",
   "name": "python",
   "nbconvert_exporter": "python",
   "pygments_lexer": "ipython3",
   "version": "3.10.4"
  },
  "orig_nbformat": 4
 },
 "nbformat": 4,
 "nbformat_minor": 2
}
